{
 "cells": [
  {
   "cell_type": "code",
   "execution_count": 15,
   "id": "caca4970-7d75-4532-b73b-a32e2efd5e53",
   "metadata": {},
   "outputs": [],
   "source": [
    "import pandas as pd\n",
    "import numpy as np\n",
    "import matplotlib.pyplot as plt\n",
    "from sklearn.model_selection import KFold, cross_validate\n",
    "from sklearn.naive_bayes import MultinomialNB\n",
    "from sklearn.linear_model import LogisticRegression\n",
    "from sklearn.svm import LinearSVC\n",
    "from xgboost import XGBClassifier\n",
    "from sklearn.ensemble import VotingClassifier\n",
    "from sklearn.multioutput import MultiOutputClassifier\n",
    "from sklearn.metrics import make_scorer, precision_score, recall_score, f1_score\n",
    "from sklearn.preprocessing import LabelEncoder\n",
    "from sklearn.feature_extraction.text import TfidfVectorizer\n",
    "from sklearn.pipeline import make_pipeline\n",
    "import time\n",
    "\n"
   ]
  },
  {
   "cell_type": "code",
   "execution_count": 4,
   "id": "725f715f-9d51-4be7-b06a-35c6b977c61b",
   "metadata": {},
   "outputs": [],
   "source": [
    "train = pd.read_csv(\"data/train.csv\")\n",
    "X_train = train['comment_text']\n",
    "y_train = train[['toxic', 'severe_toxic', 'obscene', 'threat', 'insult', 'identity_hate']]\n",
    "test_x = pd.read_csv(\"data/test.csv\")\n",
    "X_test = test_x.drop(['id'], axis=1)\n",
    "test_y = pd.read_csv(\"data/test_labels.csv\")\n",
    "y_test = test_y.drop(['id'], axis=1)"
   ]
  },
  {
   "cell_type": "code",
   "execution_count": 8,
   "id": "67eb0ae7-2486-4e87-8fea-52e259d58f05",
   "metadata": {},
   "outputs": [
    {
     "name": "stderr",
     "output_type": "stream",
     "text": [
      "[nltk_data] Downloading package punkt_tab to /Users/potus/nltk_data...\n",
      "[nltk_data]   Unzipping tokenizers/punkt_tab.zip.\n"
     ]
    }
   ],
   "source": [
    "import re\n",
    "import spacy\n",
    "from nltk.stem import PorterStemmer\n",
    "from nltk.corpus import stopwords\n",
    "from nltk.tokenize import word_tokenize\n",
    "import nltk\n",
    "import ssl\n",
    "\n",
    "try:\n",
    "    _create_unverified_https_context = ssl._create_unverified_context\n",
    "except AttributeError:\n",
    "    pass\n",
    "else:\n",
    "    ssl._create_default_https_context = _create_unverified_https_context\n",
    "\n",
    "nltk.download(\"punkt_tab\")\n",
    "\n",
    "nlp = spacy.load(\"en_core_web_sm\", disable=[\"parser\", \"ner\"])\n",
    "stop_words = set(stopwords.words(\"english\"))\n",
    "\n",
    "def tokenize_text(text):\n",
    "    text = text.lower()\n",
    "    \n",
    "    # Remove URLs, special chars\n",
    "    text = re.sub(r\"http\\S+|www\\S+|@\\w+|#\\w+|[^a-zA-Z\\s]\", \"\", text)\n",
    "    \n",
    "    # Tokenize + Remove stopwords\n",
    "    tokens = word_tokenize(text)\n",
    "    tokens = [word for word in tokens if word not in stop_words]\n",
    "    \n",
    "    doc = nlp(\" \".join(tokens))\n",
    "    lemmatized = [token.lemma_ for token in doc]\n",
    "    \n",
    "    return \" \".join(lemmatized) "
   ]
  },
  {
   "cell_type": "code",
   "execution_count": 9,
   "id": "cb022d8d-e9ac-40b7-87c2-fb4660284e69",
   "metadata": {},
   "outputs": [
    {
     "name": "stdout",
     "output_type": "stream",
     "text": [
      "Preprocessing text...\n"
     ]
    }
   ],
   "source": [
    "print(\"Preprocessing text...\")\n",
    "X_train_preprocessed = X_train.apply(tokenize_text)"
   ]
  },
  {
   "cell_type": "code",
   "execution_count": 9,
   "id": "b440b750-7e2d-470d-bf5a-275e51dbf44b",
   "metadata": {},
   "outputs": [
    {
     "data": {
      "text/plain": [
       "(153164, 2)"
      ]
     },
     "execution_count": 9,
     "metadata": {},
     "output_type": "execute_result"
    }
   ],
   "source": [
    "test_x.shape"
   ]
  },
  {
   "cell_type": "code",
   "execution_count": 20,
   "id": "5940d19d-db0a-4b52-b0a5-7cb6a1744776",
   "metadata": {},
   "outputs": [
    {
     "data": {
      "text/html": [
       "<div>\n",
       "<style scoped>\n",
       "    .dataframe tbody tr th:only-of-type {\n",
       "        vertical-align: middle;\n",
       "    }\n",
       "\n",
       "    .dataframe tbody tr th {\n",
       "        vertical-align: top;\n",
       "    }\n",
       "\n",
       "    .dataframe thead th {\n",
       "        text-align: right;\n",
       "    }\n",
       "</style>\n",
       "<table border=\"1\" class=\"dataframe\">\n",
       "  <thead>\n",
       "    <tr style=\"text-align: right;\">\n",
       "      <th></th>\n",
       "      <th>id</th>\n",
       "      <th>comment_text</th>\n",
       "      <th>toxic</th>\n",
       "      <th>severe_toxic</th>\n",
       "      <th>obscene</th>\n",
       "      <th>threat</th>\n",
       "      <th>insult</th>\n",
       "      <th>identity_hate</th>\n",
       "    </tr>\n",
       "  </thead>\n",
       "  <tbody>\n",
       "    <tr>\n",
       "      <th>0</th>\n",
       "      <td>0000997932d777bf</td>\n",
       "      <td>Explanation\\nWhy the edits made under my usern...</td>\n",
       "      <td>0</td>\n",
       "      <td>0</td>\n",
       "      <td>0</td>\n",
       "      <td>0</td>\n",
       "      <td>0</td>\n",
       "      <td>0</td>\n",
       "    </tr>\n",
       "    <tr>\n",
       "      <th>1</th>\n",
       "      <td>000103f0d9cfb60f</td>\n",
       "      <td>D'aww! He matches this background colour I'm s...</td>\n",
       "      <td>0</td>\n",
       "      <td>0</td>\n",
       "      <td>0</td>\n",
       "      <td>0</td>\n",
       "      <td>0</td>\n",
       "      <td>0</td>\n",
       "    </tr>\n",
       "    <tr>\n",
       "      <th>2</th>\n",
       "      <td>000113f07ec002fd</td>\n",
       "      <td>Hey man, I'm really not trying to edit war. It...</td>\n",
       "      <td>0</td>\n",
       "      <td>0</td>\n",
       "      <td>0</td>\n",
       "      <td>0</td>\n",
       "      <td>0</td>\n",
       "      <td>0</td>\n",
       "    </tr>\n",
       "    <tr>\n",
       "      <th>3</th>\n",
       "      <td>0001b41b1c6bb37e</td>\n",
       "      <td>\"\\nMore\\nI can't make any real suggestions on ...</td>\n",
       "      <td>0</td>\n",
       "      <td>0</td>\n",
       "      <td>0</td>\n",
       "      <td>0</td>\n",
       "      <td>0</td>\n",
       "      <td>0</td>\n",
       "    </tr>\n",
       "    <tr>\n",
       "      <th>4</th>\n",
       "      <td>0001d958c54c6e35</td>\n",
       "      <td>You, sir, are my hero. Any chance you remember...</td>\n",
       "      <td>0</td>\n",
       "      <td>0</td>\n",
       "      <td>0</td>\n",
       "      <td>0</td>\n",
       "      <td>0</td>\n",
       "      <td>0</td>\n",
       "    </tr>\n",
       "  </tbody>\n",
       "</table>\n",
       "</div>"
      ],
      "text/plain": [
       "                 id                                       comment_text  toxic  \\\n",
       "0  0000997932d777bf  Explanation\\nWhy the edits made under my usern...      0   \n",
       "1  000103f0d9cfb60f  D'aww! He matches this background colour I'm s...      0   \n",
       "2  000113f07ec002fd  Hey man, I'm really not trying to edit war. It...      0   \n",
       "3  0001b41b1c6bb37e  \"\\nMore\\nI can't make any real suggestions on ...      0   \n",
       "4  0001d958c54c6e35  You, sir, are my hero. Any chance you remember...      0   \n",
       "\n",
       "   severe_toxic  obscene  threat  insult  identity_hate  \n",
       "0             0        0       0       0              0  \n",
       "1             0        0       0       0              0  \n",
       "2             0        0       0       0              0  \n",
       "3             0        0       0       0              0  \n",
       "4             0        0       0       0              0  "
      ]
     },
     "execution_count": 20,
     "metadata": {},
     "output_type": "execute_result"
    }
   ],
   "source": [
    "train.head()"
   ]
  },
  {
   "cell_type": "code",
   "execution_count": 10,
   "id": "7cf05d69-4827-4123-bee3-fdf5156637a9",
   "metadata": {},
   "outputs": [],
   "source": [
    "tfidf = TfidfVectorizer(\n",
    "    max_features=5000,  \n",
    "    stop_words='english', \n",
    "    ngram_range=(1, 2)  \n",
    ")\n",
    "\n",
    "models = {\n",
    "    \"MultinomialNB\": MultiOutputClassifier(MultinomialNB()),\n",
    "    \"LogisticRegression\": MultiOutputClassifier(LogisticRegression(max_iter=1000)),\n",
    "    \"LinearSVC\": MultiOutputClassifier(LinearSVC(max_iter=1000)),\n",
    "    \"XGBoost\": MultiOutputClassifier(XGBClassifier(eval_metric='logloss')),\n",
    "}"
   ]
  },
  {
   "cell_type": "code",
   "execution_count": 11,
   "id": "2e8ec382-533d-4106-8fd8-21509e3d79a3",
   "metadata": {},
   "outputs": [],
   "source": [
    "scoring = {\n",
    "    'precision': make_scorer(precision_score, average='weighted'),\n",
    "    'recall': make_scorer(recall_score, average='weighted'),\n",
    "    'f1': make_scorer(f1_score, average='weighted'),\n",
    "}"
   ]
  },
  {
   "cell_type": "code",
   "execution_count": 12,
   "id": "aa2eaafb-6884-4437-afa4-c3b4ae41d01c",
   "metadata": {},
   "outputs": [],
   "source": [
    "kfold = KFold(n_splits=5, shuffle=True, random_state=42)\n",
    "\n",
    "results = {}"
   ]
  },
  {
   "cell_type": "code",
   "execution_count": 18,
   "id": "9d5fa655-5f97-49a5-a56a-4cd83a7e244a",
   "metadata": {},
   "outputs": [
    {
     "name": "stdout",
     "output_type": "stream",
     "text": [
      "Evaluating MultinomialNB...\n",
      "Time taken: 37.55409812927246\n",
      "Evaluating LogisticRegression...\n",
      "Time taken: 44.38541507720947\n",
      "Evaluating LinearSVC...\n",
      "Time taken: 47.19519329071045\n",
      "Evaluating XGBoost...\n",
      "Time taken: 253.4261119365692\n"
     ]
    }
   ],
   "source": [
    "for name, model in models.items():\n",
    "    print(f\"Evaluating {name}...\")\n",
    "    start = time.time()\n",
    "    pipeline = make_pipeline(tfidf, model)\n",
    "    \n",
    "    f1_scores = []\n",
    "    precision_scores = []\n",
    "    recall_scores = []\n",
    "    \n",
    "    for train_idx, val_idx in kfold.split(X_train):\n",
    "        X_fold_train, X_fold_val = X_train_preprocessed.iloc[train_idx], X_train_preprocessed.iloc[val_idx]\n",
    "        y_fold_train, y_fold_val = y_train.iloc[train_idx], y_train.iloc[val_idx]\n",
    "        \n",
    "        pipeline.fit(X_fold_train, y_fold_train)\n",
    "        y_pred = pipeline.predict(X_fold_val)\n",
    "        \n",
    "        f1_scores.append(f1_score(y_fold_val, y_pred, average='micro'))\n",
    "        precision_scores.append(precision_score(y_fold_val, y_pred, average='micro'))\n",
    "        recall_scores.append(recall_score(y_fold_val, y_pred, average='micro'))\n",
    "\n",
    "    end = time.time()\n",
    "    results[name] = {\n",
    "        'precision': np.mean(precision_scores),\n",
    "        'recall': np.mean(recall_scores),\n",
    "        'f1': np.mean(f1_scores),\n",
    "        'Training Time (s)': end-start,\n",
    "    }\n",
    "    print(f\"Time taken: {end-start}\")\n",
    "\n",
    "results_df = pd.DataFrame(results).T"
   ]
  },
  {
   "cell_type": "code",
   "execution_count": 19,
   "id": "b1d1c489-172e-4111-91ec-aa5503d7bd96",
   "metadata": {},
   "outputs": [
    {
     "data": {
      "image/png": "[encoded data removed]",
      "text/plain": [
       "<Figure size 1200x600 with 1 Axes>"
      ]
     },
     "metadata": {},
     "output_type": "display_data"
    }
   ],
   "source": [
    "metrics = ['precision', 'recall', 'f1']\n",
    "results_df[metrics].plot(kind='bar', figsize=(12, 6))\n",
    "plt.title(\"Model Comparison (3-Fold CV) - Micro Average\")\n",
    "plt.ylabel(\"Score\")\n",
    "plt.xticks(rotation=45)\n",
    "plt.ylim(0, 1.1)\n",
    "plt.legend(loc='lower right')\n",
    "plt.grid(axis='y', linestyle='--')\n",
    "plt.tight_layout()\n",
    "plt.show()"
   ]
  },
  {
   "cell_type": "code",
   "execution_count": 20,
   "id": "e7b32dd3-1dc9-428e-9bda-a561e8c1c178",
   "metadata": {},
   "outputs": [
    {
     "data": {
      "text/html": [
       "<div>\n",
       "<style scoped>\n",
       "    .dataframe tbody tr th:only-of-type {\n",
       "        vertical-align: middle;\n",
       "    }\n",
       "\n",
       "    .dataframe tbody tr th {\n",
       "        vertical-align: top;\n",
       "    }\n",
       "\n",
       "    .dataframe thead th {\n",
       "        text-align: right;\n",
       "    }\n",
       "</style>\n",
       "<table border=\"1\" class=\"dataframe\">\n",
       "  <thead>\n",
       "    <tr style=\"text-align: right;\">\n",
       "      <th></th>\n",
       "      <th>precision</th>\n",
       "      <th>recall</th>\n",
       "      <th>f1</th>\n",
       "      <th>Training Time (s)</th>\n",
       "    </tr>\n",
       "  </thead>\n",
       "  <tbody>\n",
       "    <tr>\n",
       "      <th>MultinomialNB</th>\n",
       "      <td>0.864245</td>\n",
       "      <td>0.488775</td>\n",
       "      <td>0.624363</td>\n",
       "      <td>37.554098</td>\n",
       "    </tr>\n",
       "    <tr>\n",
       "      <th>LogisticRegression</th>\n",
       "      <td>0.860085</td>\n",
       "      <td>0.573854</td>\n",
       "      <td>0.688365</td>\n",
       "      <td>44.385415</td>\n",
       "    </tr>\n",
       "    <tr>\n",
       "      <th>LinearSVC</th>\n",
       "      <td>0.839339</td>\n",
       "      <td>0.610493</td>\n",
       "      <td>0.706823</td>\n",
       "      <td>47.195193</td>\n",
       "    </tr>\n",
       "    <tr>\n",
       "      <th>XGBoost</th>\n",
       "      <td>0.825277</td>\n",
       "      <td>0.590846</td>\n",
       "      <td>0.688612</td>\n",
       "      <td>253.426112</td>\n",
       "    </tr>\n",
       "  </tbody>\n",
       "</table>\n",
       "</div>"
      ],
      "text/plain": [
       "                    precision    recall        f1  Training Time (s)\n",
       "MultinomialNB        0.864245  0.488775  0.624363          37.554098\n",
       "LogisticRegression   0.860085  0.573854  0.688365          44.385415\n",
       "LinearSVC            0.839339  0.610493  0.706823          47.195193\n",
       "XGBoost              0.825277  0.590846  0.688612         253.426112"
      ]
     },
     "execution_count": 20,
     "metadata": {},
     "output_type": "execute_result"
    }
   ],
   "source": [
    "results_df"
   ]
  },
  {
   "cell_type": "code",
   "execution_count": null,
   "id": "50bbc677-b21c-490c-be1b-c05f37d60df0",
   "metadata": {},
   "outputs": [],
   "source": [
    "results = []\n",
    "\n",
    "for name, pipeline in models.items():\n",
    "    print(f\"\\nTraining {name}...\")\n",
    "    start_time = time.time()\n",
    "    \n",
    "    # Train and predict\n",
    "    pipeline.fit(X_train, y_train)\n",
    "    y_pred = pipeline.predict(X_test)\n",
    "    training_time = time.time() - start_time\n",
    "    \n",
    "    # Calculate metrics\n",
    "    results.append({\n",
    "        'Model': name,\n",
    "        'Precision': precision_score(y_test, y_pred, average='micro'),\n",
    "        'Recall': recall_score(y_test, y_pred, average='micro'),\n",
    "        'F1': f1_score(y_test, y_pred, average='micro'),\n",
    "        'Training Time (s)': training_time,\n",
    "        'Prediction Time (s)': time.time() - start_time - training_time\n",
    "    })\n"
   ]
  }
 ],
 "metadata": {
  "kernelspec": {
   "display_name": "Python 3 (ipykernel)",
   "language": "python",
   "name": "python3"
  },
  "language_info": {
   "codemirror_mode": {
    "name": "ipython",
    "version": 3
   },
   "file_extension": ".py",
   "mimetype": "text/x-python",
   "name": "python",
   "nbconvert_exporter": "python",
   "pygments_lexer": "ipython3",
   "version": "3.10.5"
  }
 },
 "nbformat": 4,
 "nbformat_minor": 5
}
